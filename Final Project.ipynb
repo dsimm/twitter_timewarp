{
 "cells": [
  {
   "cell_type": "code",
   "execution_count": 2,
   "metadata": {
    "collapsed": false
   },
   "outputs": [],
   "source": [
    "MODULE = '/Library/Python/2.7/site-packages/pattern'\n",
    "MODULE = '/Users/dominic_simm/tmp/pattern-master/pattern'\n",
    "import sys; \n",
    "if MODULE not in sys.path: sys.path.append(MODULE)\n",
    "from pattern.en import parsetree"
   ]
  },
  {
   "cell_type": "code",
   "execution_count": 3,
   "metadata": {
    "collapsed": false
   },
   "outputs": [
    {
     "name": "stdout",
     "output_type": "stream",
     "text": [
      "WIN\n",
      "WIN\n"
     ]
    }
   ],
   "source": [
    "from pattern.web    import Twitter\n",
    "from pattern.en     import tag\n",
    "from pattern.vector import KNN, count\n",
    "\n",
    "twitter, knn = Twitter(), KNN()\n",
    "\n",
    "for i in range(1, 3):\n",
    "    for tweet in twitter.search('#win OR #fail', start=i, count=100):\n",
    "        s = tweet.text.lower()\n",
    "        p = '#win' in s and 'WIN' or 'FAIL'\n",
    "        v = tag(s)\n",
    "        v = [word for word, pos in v if pos == 'JJ'] # JJ = adjective\n",
    "        v = count(v) # {'sweet': 1}\n",
    "        if v:\n",
    "            knn.train(v, type=p)\n",
    "\n",
    "print knn.classify('sweet potato burger')\n",
    "print knn.classify('stupid autocorrect')"
   ]
  },
  {
   "cell_type": "code",
   "execution_count": 25,
   "metadata": {
    "collapsed": false,
    "scrolled": true
   },
   "outputs": [
    {
     "name": "stdout",
     "output_type": "stream",
     "text": [
      "Please insert search term you are interested in!\n",
      "=> A320\n",
      "Result({u'profile': u'http://pbs.twimg.com/profile_images/559097957597708288/oZFwWhD7_normal.jpeg', u'language': u'fr', u'author': u'passengeralive', u'url': u'https://twitter.com/passengeralive/status/581108536844914688', u'text': u'RT @Jclrddd: #A320 #M\\xe9dias ayez un peu de respect pour les familles et les victimes !!', u'shares': 1, u'date': u'Thu Mar 26 15:00:46 +0000 2015', u'id': u'581108536844914688'})\n",
      "581108536844914688\n",
      "1\n",
      "Thu Mar 26 15:00:46 +0000 2015\n",
      "[u'#a320', u'#m']\n",
      "rt @jclrddd: #a320 #médias ayez un peu de respect pour les familles et les victimes !!\n",
      "Result({u'profile': u'http://pbs.twimg.com/profile_images/538277129587548160/zcr7JU5v_normal.jpeg', u'language': u'fr', u'author': u'ddetours', u'url': u'https://twitter.com/ddetours/status/581108516141793280', u'text': u\"RT @QuentinMchd: Selon CNN, la France a demand\\xe9 le soutien du FBI dans l'enqu\\xeate sur le crash de l'avion #A320 via @CNNSitRoom #Germanwings\", u'shares': 7, u'date': u'Thu Mar 26 15:00:41 +0000 2015', u'id': u'581108516141793280'})\n",
      "581108516141793280\n",
      "7\n",
      "Thu Mar 26 15:00:41 +0000 2015\n",
      "[u'#a320', u'#germanwings']\n",
      "rt @quentinmchd: selon cnn, la france a demandé le soutien du fbi dans l'enquête sur le crash de l'avion #a320 via @cnnsitroom #germanwings\n",
      "Result({u'profile': u'http://pbs.twimg.com/profile_images/2591126338/ytg4to3kpvlgiz3roly9_normal.png', u'language': u'es', u'author': u'Sergio_EO', u'url': u'https://twitter.com/Sergio_EO/status/581108494494912512', u'text': u'El procurador de Marsella acus\\xf3 al copiloto del avi\\xf3n #A320 de #Germanwings de hacer descender \\u201cvoluntariamente\\u201d el aparato hacia los Alpes.', u'date': u'Thu Mar 26 15:00:36 +0000 2015', u'id': u'581108494494912512'})\n",
      "581108494494912512\n",
      "0\n",
      "Thu Mar 26 15:00:36 +0000 2015\n",
      "[u'#a320', u'#germanwings']\n",
      "el procurador de marsella acusó al copiloto del avión #a320 de #germanwings de hacer descender “voluntariamente” el aparato hacia los alpes.\n",
      "Result({u'profile': u'http://pbs.twimg.com/profile_images/487580949824421888/A9eoG3ES_normal.jpeg', u'language': u'sv', u'author': u'JillMelinder', u'url': u'https://twitter.com/JillMelinder/status/581108494381748224', u'text': u'RT @carolssson: R\\xf6da Korset v\\xe4ntar i Digne-les-Bains. Anh\\xf6riga \\xe4r p\\xe5 v\\xe4g. Hj\\xe4rtsk\\xe4rande. #A320 #GermanWingsCrash Foto: AFP http://t.co/wMpuChUmnm', u'shares': 6, u'date': u'Thu Mar 26 15:00:36 +0000 2015', u'id': u'581108494381748224'})\n",
      "581108494381748224\n",
      "6\n",
      "Thu Mar 26 15:00:36 +0000 2015\n",
      "[u'#a320', u'#germanwingscrash']\n",
      "rt @carolssson: röda korset väntar i digne-les-bains. anhöriga är på väg. hjärtskärande. #a320 #germanwingscrash foto: afp http://t.co/wmpuchumnm\n"
     ]
    }
   ],
   "source": [
    "import re\n",
    "from pattern.en     import tag\n",
    "from pattern.vector import KNN, count\n",
    "import redis\n",
    "\n",
    "# Define pattern\n",
    "twitter, knn = Twitter(license=None, throttle=0.5, language=None), KNN()\n",
    "# Define redis connection\n",
    "r = redis.StrictRedis(host='localhost', port=6379, db=0)\n",
    "\n",
    "# Request for search word\n",
    "search_word = raw_input(\"Please insert search term you are interested in!\\n=> \")\n",
    "network = {}\n",
    "\n",
    "from pattern.web import Twitter\n",
    "for i in range(1, 3):\n",
    "    for tweet in twitter.search('#' + search_word, start=i, count=2):\n",
    "        print tweet\n",
    "        print tweet.id\n",
    "        print tweet.shares\n",
    "        print tweet.date\n",
    "\n",
    "        # Parsing human date into INT\n",
    "        date_time = re.sub('(\\+\\d{4})', '', tweet.date) \n",
    "        timestamp = int(time.mktime(time.strptime(date_time, '%a %b %d %H:%M:%S %Y')))\n",
    "        \n",
    "        # Search for Hashtags\n",
    "        s = tweet.text.lower()\n",
    "        print s\n",
    "        hashtags = re.findall('(#\\w+)', s)\n",
    "        print hashtags\n",
    "\n",
    "        for tag in hashtags:\n",
    "            network[search_word] = {}\n",
    "        \n",
    "        # Store in Redis\n",
    "        state = r.set('foo', 'bar')\n",
    "#        r.get('foo')        \n",
    "#        v = tag(s)\n",
    "#        print v\n",
    "        \n",
    "\n",
    "#from pattern.web import Wikipedia\n",
    "#article = Wikipedia().search(search_word)\n",
    "#for section in article.sections:\n",
    "#    print repr(' ' * section.level + section.title + article.source)\n",
    "    \n",
    "\n",
    "        "
   ]
  },
  {
   "cell_type": "code",
   "execution_count": 40,
   "metadata": {
    "collapsed": false
   },
   "outputs": [
    {
     "data": {
      "text/plain": [
       "1427378446"
      ]
     },
     "execution_count": 40,
     "metadata": {},
     "output_type": "execute_result"
    }
   ],
   "source": [
    "import time\n",
    "date_time = 'Thu Mar 26 15:00:46 +0000 2015'\n",
    "date_time = re.sub('(\\+\\d{4})', '', date_time) \n",
    "int(time.mktime(time.strptime(date_time, '%a %b %d %H:%M:%S %Y')))"
   ]
  },
  {
   "cell_type": "code",
   "execution_count": 49,
   "metadata": {
    "collapsed": false
   },
   "outputs": [
    {
     "name": "stdout",
     "output_type": "stream",
     "text": [
      "Boom\n"
     ]
    }
   ],
   "source": [
    "import redis\n",
    "# Define redis connection\n",
    "r = redis.StrictRedis(host='localhost', port=6379, db=0)\n",
    "r.delete('foo')\n",
    "if r.get('foo') == None:\n",
    "    print 'Boom'\n",
    "else:\n",
    "    state = r.set('foo', 'bar')\n"
   ]
  },
  {
   "cell_type": "code",
   "execution_count": 51,
   "metadata": {
    "collapsed": false
   },
   "outputs": [
    {
     "name": "stdout",
     "output_type": "stream",
     "text": [
      "#a320\n",
      "#germanwings\n"
     ]
    }
   ],
   "source": [
    "hashtags = [u'#a320', u'#germanwings']\n",
    "for tag in hashtags:\n",
    "    print tag\n"
   ]
  },
  {
   "cell_type": "code",
   "execution_count": null,
   "metadata": {
    "collapsed": true
   },
   "outputs": [],
   "source": []
  },
  {
   "cell_type": "code",
   "execution_count": null,
   "metadata": {
    "collapsed": true
   },
   "outputs": [],
   "source": []
  },
  {
   "cell_type": "code",
   "execution_count": null,
   "metadata": {
    "collapsed": true
   },
   "outputs": [],
   "source": []
  },
  {
   "cell_type": "code",
   "execution_count": null,
   "metadata": {
    "collapsed": true
   },
   "outputs": [],
   "source": []
  },
  {
   "cell_type": "code",
   "execution_count": null,
   "metadata": {
    "collapsed": true
   },
   "outputs": [],
   "source": []
  },
  {
   "cell_type": "code",
   "execution_count": null,
   "metadata": {
    "collapsed": true
   },
   "outputs": [],
   "source": []
  },
  {
   "cell_type": "code",
   "execution_count": null,
   "metadata": {
    "collapsed": true
   },
   "outputs": [],
   "source": []
  },
  {
   "cell_type": "code",
   "execution_count": null,
   "metadata": {
    "collapsed": true
   },
   "outputs": [],
   "source": []
  },
  {
   "cell_type": "code",
   "execution_count": null,
   "metadata": {
    "collapsed": true
   },
   "outputs": [],
   "source": []
  },
  {
   "cell_type": "code",
   "execution_count": null,
   "metadata": {
    "collapsed": true
   },
   "outputs": [],
   "source": []
  },
  {
   "cell_type": "code",
   "execution_count": null,
   "metadata": {
    "collapsed": true
   },
   "outputs": [],
   "source": []
  },
  {
   "cell_type": "code",
   "execution_count": null,
   "metadata": {
    "collapsed": true
   },
   "outputs": [],
   "source": []
  },
  {
   "cell_type": "code",
   "execution_count": null,
   "metadata": {
    "collapsed": true
   },
   "outputs": [],
   "source": []
  },
  {
   "cell_type": "code",
   "execution_count": null,
   "metadata": {
    "collapsed": true
   },
   "outputs": [],
   "source": []
  },
  {
   "cell_type": "code",
   "execution_count": null,
   "metadata": {
    "collapsed": true
   },
   "outputs": [],
   "source": []
  },
  {
   "cell_type": "code",
   "execution_count": null,
   "metadata": {
    "collapsed": true
   },
   "outputs": [],
   "source": []
  },
  {
   "cell_type": "code",
   "execution_count": null,
   "metadata": {
    "collapsed": true
   },
   "outputs": [],
   "source": []
  },
  {
   "cell_type": "code",
   "execution_count": null,
   "metadata": {
    "collapsed": true
   },
   "outputs": [],
   "source": []
  },
  {
   "cell_type": "code",
   "execution_count": null,
   "metadata": {
    "collapsed": true
   },
   "outputs": [],
   "source": []
  },
  {
   "cell_type": "code",
   "execution_count": null,
   "metadata": {
    "collapsed": true
   },
   "outputs": [],
   "source": []
  },
  {
   "cell_type": "code",
   "execution_count": null,
   "metadata": {
    "collapsed": true
   },
   "outputs": [],
   "source": []
  },
  {
   "cell_type": "code",
   "execution_count": null,
   "metadata": {
    "collapsed": true
   },
   "outputs": [],
   "source": []
  },
  {
   "cell_type": "code",
   "execution_count": null,
   "metadata": {
    "collapsed": true
   },
   "outputs": [],
   "source": []
  },
  {
   "cell_type": "code",
   "execution_count": null,
   "metadata": {
    "collapsed": true
   },
   "outputs": [],
   "source": []
  },
  {
   "cell_type": "code",
   "execution_count": null,
   "metadata": {
    "collapsed": true
   },
   "outputs": [],
   "source": []
  },
  {
   "cell_type": "code",
   "execution_count": null,
   "metadata": {
    "collapsed": true
   },
   "outputs": [],
   "source": [
    "tweet"
   ]
  },
  {
   "cell_type": "code",
   "execution_count": null,
   "metadata": {
    "collapsed": true
   },
   "outputs": [],
   "source": []
  },
  {
   "cell_type": "code",
   "execution_count": null,
   "metadata": {
    "collapsed": true
   },
   "outputs": [],
   "source": []
  },
  {
   "cell_type": "code",
   "execution_count": null,
   "metadata": {
    "collapsed": true
   },
   "outputs": [],
   "source": []
  },
  {
   "cell_type": "code",
   "execution_count": null,
   "metadata": {
    "collapsed": true
   },
   "outputs": [],
   "source": []
  },
  {
   "cell_type": "code",
   "execution_count": null,
   "metadata": {
    "collapsed": true
   },
   "outputs": [],
   "source": []
  },
  {
   "cell_type": "code",
   "execution_count": null,
   "metadata": {
    "collapsed": true
   },
   "outputs": [],
   "source": []
  },
  {
   "cell_type": "code",
   "execution_count": null,
   "metadata": {
    "collapsed": true
   },
   "outputs": [],
   "source": []
  },
  {
   "cell_type": "code",
   "execution_count": null,
   "metadata": {
    "collapsed": true
   },
   "outputs": [],
   "source": []
  },
  {
   "cell_type": "code",
   "execution_count": null,
   "metadata": {
    "collapsed": true
   },
   "outputs": [],
   "source": []
  },
  {
   "cell_type": "code",
   "execution_count": null,
   "metadata": {
    "collapsed": true
   },
   "outputs": [],
   "source": []
  },
  {
   "cell_type": "code",
   "execution_count": null,
   "metadata": {
    "collapsed": true
   },
   "outputs": [],
   "source": []
  },
  {
   "cell_type": "code",
   "execution_count": null,
   "metadata": {
    "collapsed": false
   },
   "outputs": [],
   "source": []
  },
  {
   "cell_type": "code",
   "execution_count": null,
   "metadata": {
    "collapsed": true
   },
   "outputs": [],
   "source": []
  }
 ],
 "metadata": {
  "kernelspec": {
   "display_name": "Python 2",
   "language": "python",
   "name": "python2"
  },
  "language_info": {
   "codemirror_mode": {
    "name": "ipython",
    "version": 2
   },
   "file_extension": ".py",
   "mimetype": "text/x-python",
   "name": "python",
   "nbconvert_exporter": "python",
   "pygments_lexer": "ipython2",
   "version": "2.7.6"
  }
 },
 "nbformat": 4,
 "nbformat_minor": 0
}
